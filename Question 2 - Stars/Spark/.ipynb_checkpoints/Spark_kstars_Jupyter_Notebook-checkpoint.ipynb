{
 "cells": [
  {
   "cell_type": "code",
   "execution_count": 15,
   "metadata": {
    "collapsed": false
   },
   "outputs": [
    {
     "name": "stdout",
     "output_type": "stream",
     "text": [
      "Co-ordinates of the 10 nearest stars from the Sun\n",
      "+------+----------------+---------+---------+---------+------+---+---+------------------+\n",
      "|    id|          proper|        x|        y|        z|    x0| y0| z0|              dist|\n",
      "+------+----------------+---------+---------+---------+------+---+---+------------------+\n",
      "|     0|             Sol|   5.0E-6|      0.0|      0.0|5.0E-6|0.0|0.0|               0.0|\n",
      "| 70666|Proxima Centauri|-0.472264|-0.361451|-1.151219|5.0E-6|0.0|0.0|1.2957584727575582|\n",
      "| 71453|            null|-0.495181|-0.413973|-1.156674|5.0E-6|0.0|0.0|1.3245669336054708|\n",
      "| 71456| Rigil Kentaurus|-0.495203|-0.414084|-1.156625|5.0E-6|0.0|0.0|1.3245670662314537|\n",
      "| 87665|  Barnard's Star|-0.017373|-1.816613| 0.149123|5.0E-6|0.0|0.0|1.8228062035723929|\n",
      "|118720|            null|-2.282811| 0.649334| 0.292057|5.0E-6|0.0|0.0|2.3912718006661224|\n",
      "| 53879|   Lalande 21185|   -1.998| 0.504305| 1.495504|5.0E-6|0.0|0.0| 2.546149981259156|\n",
      "|118079|            null| 2.270499|  1.04697|-0.809963|5.0E-6|0.0|0.0| 2.628179835229127|\n",
      "|118080|            null| 2.270631| 1.047031| -0.81001|5.0E-6|0.0|0.0| 2.628332655303929|\n",
      "| 32263|          Sirius|-0.494323| 2.476731|-0.758485|5.0E-6|0.0|0.0|2.6370165174245686|\n",
      "+------+----------------+---------+---------+---------+------+---+---+------------------+\n",
      "only showing top 10 rows\n",
      "\n"
     ]
    }
   ],
   "source": [
    "# To get the co-ordinates of the k nearest stars from the Sun\n",
    "# I have used k=10 in this case\n",
    "\n",
    "from pyspark.sql import SparkSession\n",
    "from pyspark.sql.functions import lit\n",
    "\n",
    "def kstars(k):\n",
    "    spark = SparkSession.builder.getOrCreate()\n",
    "    stars = spark.read.csv('/home/hduser/Desktop/ALL_MAIN_VMWare/data/hygdata_v3.csv', header = True, inferSchema = True)\n",
    "    stars = stars.select('id', 'proper', 'x', 'y', 'z' )\n",
    "\n",
    "    x0 = stars.select('id', 'proper', 'x', 'y', 'z' ).head(2)[0][2]\n",
    "    y0 = stars.select('id', 'proper', 'x', 'y', 'z' ).head(2)[0][3]\n",
    "    z0 = stars.select('id', 'proper', 'x', 'y', 'z' ).head(2)[0][4]\n",
    "\n",
    "    stars = stars.withColumn('x0', lit(x0)).withColumn('y0', lit(y0)).withColumn('z0', lit(z0))\n",
    "    stars = stars.withColumn('dist', ((stars.x - stars.x0)**2 + (stars.y - stars.y0)**2 + (stars.z - stars.z0)**2)**0.5)\n",
    "    \n",
    "    print('Co-ordinates of the {} nearest stars from the Sun'.format(k))\n",
    "    stars.orderBy('dist').show(k)\n",
    "    \n",
    "kstars(k=10)"
   ]
  },
  {
   "cell_type": "code",
   "execution_count": null,
   "metadata": {
    "collapsed": true
   },
   "outputs": [],
   "source": []
  }
 ],
 "metadata": {
  "anaconda-cloud": {},
  "kernelspec": {
   "display_name": "Python 3",
   "language": "python",
   "name": "python3"
  },
  "language_info": {
   "codemirror_mode": {
    "name": "ipython",
    "version": 3
   },
   "file_extension": ".py",
   "mimetype": "text/x-python",
   "name": "python",
   "nbconvert_exporter": "python",
   "pygments_lexer": "ipython3",
   "version": "3.5.2"
  }
 },
 "nbformat": 4,
 "nbformat_minor": 2
}
